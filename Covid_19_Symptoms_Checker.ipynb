{
  "nbformat": 4,
  "nbformat_minor": 0,
  "metadata": {
    "colab": {
      "provenance": [],
      "toc_visible": true
    },
    "kernelspec": {
      "name": "python3",
      "display_name": "Python 3"
    },
    "language_info": {
      "name": "python"
    }
  },
  "cells": [
    {
      "cell_type": "markdown",
      "source": [
        "Во овој проект се врши предвидување за тоа дали човекот има Корона вирус врз основа на симптомите кои ги има.\n",
        "Линк до датасетот: https://www.kaggle.com/datasets/iamhungundji/covid19-symptoms-checker\n",
        "\n",
        "Изработила: Викторија Стаменова"
      ],
      "metadata": {
        "id": "oF7OsFag_4Ei"
      }
    },
    {
      "cell_type": "markdown",
      "source": [
        "#Импортирање на библиотеки и датасет"
      ],
      "metadata": {
        "id": "7ElNAP8eTjfC"
      }
    },
    {
      "cell_type": "code",
      "execution_count": 1,
      "metadata": {
        "id": "8C5f9OQW5lvh"
      },
      "outputs": [],
      "source": [
        "import pandas as pd\n",
        "import numpy as np\n",
        "from sklearn.preprocessing import LabelEncoder\n",
        "from sklearn.model_selection import train_test_split\n",
        "from sklearn.preprocessing import StandardScaler\n",
        "import matplotlib.pyplot as plt\n",
        "import seaborn as sns\n",
        "%matplotlib inline\n",
        "from scipy.cluster import hierarchy\n",
        "from scipy.spatial.distance import pdist\n",
        "from sklearn.cluster import KMeans\n",
        "from sklearn import metrics\n",
        "from sklearn.metrics import f1_score\n",
        "from sklearn.metrics import classification_report, confusion_matrix"
      ]
    },
    {
      "cell_type": "code",
      "source": [
        "data=pd.read_csv('/content/drive/MyDrive/Cleaned-Data.csv')"
      ],
      "metadata": {
        "id": "TC3fLtfK74mA"
      },
      "execution_count": 2,
      "outputs": []
    },
    {
      "cell_type": "markdown",
      "source": [
        "Преглед на првите 5 редици од датасетот"
      ],
      "metadata": {
        "id": "xh3-qVmVcuE6"
      }
    },
    {
      "cell_type": "code",
      "source": [
        "data.head()"
      ],
      "metadata": {
        "colab": {
          "base_uri": "https://localhost:8080/",
          "height": 290
        },
        "id": "Ip8JRAfM8BJg",
        "outputId": "86337b16-5295-45b5-8f40-64cbc4e932f0"
      },
      "execution_count": 3,
      "outputs": [
        {
          "output_type": "execute_result",
          "data": {
            "text/plain": [
              "   Fever  Tiredness  Dry-Cough  Difficulty-in-Breathing  Sore-Throat  \\\n",
              "0      1          1          1                        1            1   \n",
              "1      1          1          1                        1            1   \n",
              "2      1          1          1                        1            1   \n",
              "3      1          1          1                        1            1   \n",
              "4      1          1          1                        1            1   \n",
              "\n",
              "   None_Sympton  Pains  Nasal-Congestion  Runny-Nose  Diarrhea  ...  \\\n",
              "0             0      1                 1           1         1  ...   \n",
              "1             0      1                 1           1         1  ...   \n",
              "2             0      1                 1           1         1  ...   \n",
              "3             0      1                 1           1         1  ...   \n",
              "4             0      1                 1           1         1  ...   \n",
              "\n",
              "   Gender_Male  Gender_Transgender  Severity_Mild  Severity_Moderate  \\\n",
              "0            1                   0              1                  0   \n",
              "1            1                   0              1                  0   \n",
              "2            1                   0              1                  0   \n",
              "3            1                   0              0                  1   \n",
              "4            1                   0              0                  1   \n",
              "\n",
              "   Severity_None  Severity_Severe  Contact_Dont-Know  Contact_No  Contact_Yes  \\\n",
              "0              0                0                  0           0            1   \n",
              "1              0                0                  0           1            0   \n",
              "2              0                0                  1           0            0   \n",
              "3              0                0                  0           0            1   \n",
              "4              0                0                  0           1            0   \n",
              "\n",
              "   Country  \n",
              "0    China  \n",
              "1    China  \n",
              "2    China  \n",
              "3    China  \n",
              "4    China  \n",
              "\n",
              "[5 rows x 27 columns]"
            ],
            "text/html": [
              "\n",
              "  <div id=\"df-ad6cba86-037b-4a42-b150-ca1cb88561cf\" class=\"colab-df-container\">\n",
              "    <div>\n",
              "<style scoped>\n",
              "    .dataframe tbody tr th:only-of-type {\n",
              "        vertical-align: middle;\n",
              "    }\n",
              "\n",
              "    .dataframe tbody tr th {\n",
              "        vertical-align: top;\n",
              "    }\n",
              "\n",
              "    .dataframe thead th {\n",
              "        text-align: right;\n",
              "    }\n",
              "</style>\n",
              "<table border=\"1\" class=\"dataframe\">\n",
              "  <thead>\n",
              "    <tr style=\"text-align: right;\">\n",
              "      <th></th>\n",
              "      <th>Fever</th>\n",
              "      <th>Tiredness</th>\n",
              "      <th>Dry-Cough</th>\n",
              "      <th>Difficulty-in-Breathing</th>\n",
              "      <th>Sore-Throat</th>\n",
              "      <th>None_Sympton</th>\n",
              "      <th>Pains</th>\n",
              "      <th>Nasal-Congestion</th>\n",
              "      <th>Runny-Nose</th>\n",
              "      <th>Diarrhea</th>\n",
              "      <th>...</th>\n",
              "      <th>Gender_Male</th>\n",
              "      <th>Gender_Transgender</th>\n",
              "      <th>Severity_Mild</th>\n",
              "      <th>Severity_Moderate</th>\n",
              "      <th>Severity_None</th>\n",
              "      <th>Severity_Severe</th>\n",
              "      <th>Contact_Dont-Know</th>\n",
              "      <th>Contact_No</th>\n",
              "      <th>Contact_Yes</th>\n",
              "      <th>Country</th>\n",
              "    </tr>\n",
              "  </thead>\n",
              "  <tbody>\n",
              "    <tr>\n",
              "      <th>0</th>\n",
              "      <td>1</td>\n",
              "      <td>1</td>\n",
              "      <td>1</td>\n",
              "      <td>1</td>\n",
              "      <td>1</td>\n",
              "      <td>0</td>\n",
              "      <td>1</td>\n",
              "      <td>1</td>\n",
              "      <td>1</td>\n",
              "      <td>1</td>\n",
              "      <td>...</td>\n",
              "      <td>1</td>\n",
              "      <td>0</td>\n",
              "      <td>1</td>\n",
              "      <td>0</td>\n",
              "      <td>0</td>\n",
              "      <td>0</td>\n",
              "      <td>0</td>\n",
              "      <td>0</td>\n",
              "      <td>1</td>\n",
              "      <td>China</td>\n",
              "    </tr>\n",
              "    <tr>\n",
              "      <th>1</th>\n",
              "      <td>1</td>\n",
              "      <td>1</td>\n",
              "      <td>1</td>\n",
              "      <td>1</td>\n",
              "      <td>1</td>\n",
              "      <td>0</td>\n",
              "      <td>1</td>\n",
              "      <td>1</td>\n",
              "      <td>1</td>\n",
              "      <td>1</td>\n",
              "      <td>...</td>\n",
              "      <td>1</td>\n",
              "      <td>0</td>\n",
              "      <td>1</td>\n",
              "      <td>0</td>\n",
              "      <td>0</td>\n",
              "      <td>0</td>\n",
              "      <td>0</td>\n",
              "      <td>1</td>\n",
              "      <td>0</td>\n",
              "      <td>China</td>\n",
              "    </tr>\n",
              "    <tr>\n",
              "      <th>2</th>\n",
              "      <td>1</td>\n",
              "      <td>1</td>\n",
              "      <td>1</td>\n",
              "      <td>1</td>\n",
              "      <td>1</td>\n",
              "      <td>0</td>\n",
              "      <td>1</td>\n",
              "      <td>1</td>\n",
              "      <td>1</td>\n",
              "      <td>1</td>\n",
              "      <td>...</td>\n",
              "      <td>1</td>\n",
              "      <td>0</td>\n",
              "      <td>1</td>\n",
              "      <td>0</td>\n",
              "      <td>0</td>\n",
              "      <td>0</td>\n",
              "      <td>1</td>\n",
              "      <td>0</td>\n",
              "      <td>0</td>\n",
              "      <td>China</td>\n",
              "    </tr>\n",
              "    <tr>\n",
              "      <th>3</th>\n",
              "      <td>1</td>\n",
              "      <td>1</td>\n",
              "      <td>1</td>\n",
              "      <td>1</td>\n",
              "      <td>1</td>\n",
              "      <td>0</td>\n",
              "      <td>1</td>\n",
              "      <td>1</td>\n",
              "      <td>1</td>\n",
              "      <td>1</td>\n",
              "      <td>...</td>\n",
              "      <td>1</td>\n",
              "      <td>0</td>\n",
              "      <td>0</td>\n",
              "      <td>1</td>\n",
              "      <td>0</td>\n",
              "      <td>0</td>\n",
              "      <td>0</td>\n",
              "      <td>0</td>\n",
              "      <td>1</td>\n",
              "      <td>China</td>\n",
              "    </tr>\n",
              "    <tr>\n",
              "      <th>4</th>\n",
              "      <td>1</td>\n",
              "      <td>1</td>\n",
              "      <td>1</td>\n",
              "      <td>1</td>\n",
              "      <td>1</td>\n",
              "      <td>0</td>\n",
              "      <td>1</td>\n",
              "      <td>1</td>\n",
              "      <td>1</td>\n",
              "      <td>1</td>\n",
              "      <td>...</td>\n",
              "      <td>1</td>\n",
              "      <td>0</td>\n",
              "      <td>0</td>\n",
              "      <td>1</td>\n",
              "      <td>0</td>\n",
              "      <td>0</td>\n",
              "      <td>0</td>\n",
              "      <td>1</td>\n",
              "      <td>0</td>\n",
              "      <td>China</td>\n",
              "    </tr>\n",
              "  </tbody>\n",
              "</table>\n",
              "<p>5 rows × 27 columns</p>\n",
              "</div>\n",
              "    <div class=\"colab-df-buttons\">\n",
              "\n",
              "  <div class=\"colab-df-container\">\n",
              "    <button class=\"colab-df-convert\" onclick=\"convertToInteractive('df-ad6cba86-037b-4a42-b150-ca1cb88561cf')\"\n",
              "            title=\"Convert this dataframe to an interactive table.\"\n",
              "            style=\"display:none;\">\n",
              "\n",
              "  <svg xmlns=\"http://www.w3.org/2000/svg\" height=\"24px\" viewBox=\"0 -960 960 960\">\n",
              "    <path d=\"M120-120v-720h720v720H120Zm60-500h600v-160H180v160Zm220 220h160v-160H400v160Zm0 220h160v-160H400v160ZM180-400h160v-160H180v160Zm440 0h160v-160H620v160ZM180-180h160v-160H180v160Zm440 0h160v-160H620v160Z\"/>\n",
              "  </svg>\n",
              "    </button>\n",
              "\n",
              "  <style>\n",
              "    .colab-df-container {\n",
              "      display:flex;\n",
              "      gap: 12px;\n",
              "    }\n",
              "\n",
              "    .colab-df-convert {\n",
              "      background-color: #E8F0FE;\n",
              "      border: none;\n",
              "      border-radius: 50%;\n",
              "      cursor: pointer;\n",
              "      display: none;\n",
              "      fill: #1967D2;\n",
              "      height: 32px;\n",
              "      padding: 0 0 0 0;\n",
              "      width: 32px;\n",
              "    }\n",
              "\n",
              "    .colab-df-convert:hover {\n",
              "      background-color: #E2EBFA;\n",
              "      box-shadow: 0px 1px 2px rgba(60, 64, 67, 0.3), 0px 1px 3px 1px rgba(60, 64, 67, 0.15);\n",
              "      fill: #174EA6;\n",
              "    }\n",
              "\n",
              "    .colab-df-buttons div {\n",
              "      margin-bottom: 4px;\n",
              "    }\n",
              "\n",
              "    [theme=dark] .colab-df-convert {\n",
              "      background-color: #3B4455;\n",
              "      fill: #D2E3FC;\n",
              "    }\n",
              "\n",
              "    [theme=dark] .colab-df-convert:hover {\n",
              "      background-color: #434B5C;\n",
              "      box-shadow: 0px 1px 3px 1px rgba(0, 0, 0, 0.15);\n",
              "      filter: drop-shadow(0px 1px 2px rgba(0, 0, 0, 0.3));\n",
              "      fill: #FFFFFF;\n",
              "    }\n",
              "  </style>\n",
              "\n",
              "    <script>\n",
              "      const buttonEl =\n",
              "        document.querySelector('#df-ad6cba86-037b-4a42-b150-ca1cb88561cf button.colab-df-convert');\n",
              "      buttonEl.style.display =\n",
              "        google.colab.kernel.accessAllowed ? 'block' : 'none';\n",
              "\n",
              "      async function convertToInteractive(key) {\n",
              "        const element = document.querySelector('#df-ad6cba86-037b-4a42-b150-ca1cb88561cf');\n",
              "        const dataTable =\n",
              "          await google.colab.kernel.invokeFunction('convertToInteractive',\n",
              "                                                    [key], {});\n",
              "        if (!dataTable) return;\n",
              "\n",
              "        const docLinkHtml = 'Like what you see? Visit the ' +\n",
              "          '<a target=\"_blank\" href=https://colab.research.google.com/notebooks/data_table.ipynb>data table notebook</a>'\n",
              "          + ' to learn more about interactive tables.';\n",
              "        element.innerHTML = '';\n",
              "        dataTable['output_type'] = 'display_data';\n",
              "        await google.colab.output.renderOutput(dataTable, element);\n",
              "        const docLink = document.createElement('div');\n",
              "        docLink.innerHTML = docLinkHtml;\n",
              "        element.appendChild(docLink);\n",
              "      }\n",
              "    </script>\n",
              "  </div>\n",
              "\n",
              "\n",
              "<div id=\"df-db743c29-7d9e-4d2a-9174-8ca804ac2763\">\n",
              "  <button class=\"colab-df-quickchart\" onclick=\"quickchart('df-db743c29-7d9e-4d2a-9174-8ca804ac2763')\"\n",
              "            title=\"Suggest charts\"\n",
              "            style=\"display:none;\">\n",
              "\n",
              "<svg xmlns=\"http://www.w3.org/2000/svg\" height=\"24px\"viewBox=\"0 0 24 24\"\n",
              "     width=\"24px\">\n",
              "    <g>\n",
              "        <path d=\"M19 3H5c-1.1 0-2 .9-2 2v14c0 1.1.9 2 2 2h14c1.1 0 2-.9 2-2V5c0-1.1-.9-2-2-2zM9 17H7v-7h2v7zm4 0h-2V7h2v10zm4 0h-2v-4h2v4z\"/>\n",
              "    </g>\n",
              "</svg>\n",
              "  </button>\n",
              "\n",
              "<style>\n",
              "  .colab-df-quickchart {\n",
              "      --bg-color: #E8F0FE;\n",
              "      --fill-color: #1967D2;\n",
              "      --hover-bg-color: #E2EBFA;\n",
              "      --hover-fill-color: #174EA6;\n",
              "      --disabled-fill-color: #AAA;\n",
              "      --disabled-bg-color: #DDD;\n",
              "  }\n",
              "\n",
              "  [theme=dark] .colab-df-quickchart {\n",
              "      --bg-color: #3B4455;\n",
              "      --fill-color: #D2E3FC;\n",
              "      --hover-bg-color: #434B5C;\n",
              "      --hover-fill-color: #FFFFFF;\n",
              "      --disabled-bg-color: #3B4455;\n",
              "      --disabled-fill-color: #666;\n",
              "  }\n",
              "\n",
              "  .colab-df-quickchart {\n",
              "    background-color: var(--bg-color);\n",
              "    border: none;\n",
              "    border-radius: 50%;\n",
              "    cursor: pointer;\n",
              "    display: none;\n",
              "    fill: var(--fill-color);\n",
              "    height: 32px;\n",
              "    padding: 0;\n",
              "    width: 32px;\n",
              "  }\n",
              "\n",
              "  .colab-df-quickchart:hover {\n",
              "    background-color: var(--hover-bg-color);\n",
              "    box-shadow: 0 1px 2px rgba(60, 64, 67, 0.3), 0 1px 3px 1px rgba(60, 64, 67, 0.15);\n",
              "    fill: var(--button-hover-fill-color);\n",
              "  }\n",
              "\n",
              "  .colab-df-quickchart-complete:disabled,\n",
              "  .colab-df-quickchart-complete:disabled:hover {\n",
              "    background-color: var(--disabled-bg-color);\n",
              "    fill: var(--disabled-fill-color);\n",
              "    box-shadow: none;\n",
              "  }\n",
              "\n",
              "  .colab-df-spinner {\n",
              "    border: 2px solid var(--fill-color);\n",
              "    border-color: transparent;\n",
              "    border-bottom-color: var(--fill-color);\n",
              "    animation:\n",
              "      spin 1s steps(1) infinite;\n",
              "  }\n",
              "\n",
              "  @keyframes spin {\n",
              "    0% {\n",
              "      border-color: transparent;\n",
              "      border-bottom-color: var(--fill-color);\n",
              "      border-left-color: var(--fill-color);\n",
              "    }\n",
              "    20% {\n",
              "      border-color: transparent;\n",
              "      border-left-color: var(--fill-color);\n",
              "      border-top-color: var(--fill-color);\n",
              "    }\n",
              "    30% {\n",
              "      border-color: transparent;\n",
              "      border-left-color: var(--fill-color);\n",
              "      border-top-color: var(--fill-color);\n",
              "      border-right-color: var(--fill-color);\n",
              "    }\n",
              "    40% {\n",
              "      border-color: transparent;\n",
              "      border-right-color: var(--fill-color);\n",
              "      border-top-color: var(--fill-color);\n",
              "    }\n",
              "    60% {\n",
              "      border-color: transparent;\n",
              "      border-right-color: var(--fill-color);\n",
              "    }\n",
              "    80% {\n",
              "      border-color: transparent;\n",
              "      border-right-color: var(--fill-color);\n",
              "      border-bottom-color: var(--fill-color);\n",
              "    }\n",
              "    90% {\n",
              "      border-color: transparent;\n",
              "      border-bottom-color: var(--fill-color);\n",
              "    }\n",
              "  }\n",
              "</style>\n",
              "\n",
              "  <script>\n",
              "    async function quickchart(key) {\n",
              "      const quickchartButtonEl =\n",
              "        document.querySelector('#' + key + ' button');\n",
              "      quickchartButtonEl.disabled = true;  // To prevent multiple clicks.\n",
              "      quickchartButtonEl.classList.add('colab-df-spinner');\n",
              "      try {\n",
              "        const charts = await google.colab.kernel.invokeFunction(\n",
              "            'suggestCharts', [key], {});\n",
              "      } catch (error) {\n",
              "        console.error('Error during call to suggestCharts:', error);\n",
              "      }\n",
              "      quickchartButtonEl.classList.remove('colab-df-spinner');\n",
              "      quickchartButtonEl.classList.add('colab-df-quickchart-complete');\n",
              "    }\n",
              "    (() => {\n",
              "      let quickchartButtonEl =\n",
              "        document.querySelector('#df-db743c29-7d9e-4d2a-9174-8ca804ac2763 button');\n",
              "      quickchartButtonEl.style.display =\n",
              "        google.colab.kernel.accessAllowed ? 'block' : 'none';\n",
              "    })();\n",
              "  </script>\n",
              "</div>\n",
              "    </div>\n",
              "  </div>\n"
            ],
            "application/vnd.google.colaboratory.intrinsic+json": {
              "type": "dataframe",
              "variable_name": "data"
            }
          },
          "metadata": {},
          "execution_count": 3
        }
      ]
    },
    {
      "cell_type": "markdown",
      "source": [
        "#1. Предпроцесирање на податоците\n"
      ],
      "metadata": {
        "id": "WQC5GLDCj0N8"
      }
    },
    {
      "cell_type": "markdown",
      "source": [
        "Проверка за null вредности"
      ],
      "metadata": {
        "id": "Emx_EbV0Aixn"
      }
    },
    {
      "cell_type": "code",
      "source": [
        "missing_values = data.isnull().sum()\n",
        "missing_values"
      ],
      "metadata": {
        "id": "M7wuVRnR-0sg",
        "colab": {
          "base_uri": "https://localhost:8080/"
        },
        "outputId": "270af0d3-1d65-4b5d-e7bd-c2c4ba15c0c7"
      },
      "execution_count": 4,
      "outputs": [
        {
          "output_type": "execute_result",
          "data": {
            "text/plain": [
              "Fever                      0\n",
              "Tiredness                  0\n",
              "Dry-Cough                  0\n",
              "Difficulty-in-Breathing    0\n",
              "Sore-Throat                0\n",
              "None_Sympton               0\n",
              "Pains                      0\n",
              "Nasal-Congestion           0\n",
              "Runny-Nose                 0\n",
              "Diarrhea                   0\n",
              "None_Experiencing          0\n",
              "Age_0-9                    0\n",
              "Age_10-19                  0\n",
              "Age_20-24                  0\n",
              "Age_25-59                  0\n",
              "Age_60+                    0\n",
              "Gender_Female              0\n",
              "Gender_Male                0\n",
              "Gender_Transgender         0\n",
              "Severity_Mild              0\n",
              "Severity_Moderate          0\n",
              "Severity_None              0\n",
              "Severity_Severe            0\n",
              "Contact_Dont-Know          0\n",
              "Contact_No                 0\n",
              "Contact_Yes                0\n",
              "Country                    0\n",
              "dtype: int64"
            ]
          },
          "metadata": {},
          "execution_count": 4
        }
      ]
    },
    {
      "cell_type": "markdown",
      "source": [
        "Енкодирање на единствената категориска променлива во датасетот"
      ],
      "metadata": {
        "id": "gKUTptAyP1PI"
      }
    },
    {
      "cell_type": "code",
      "source": [
        "le = LabelEncoder()\n",
        "data['Country']= le.fit_transform(data['Country'])"
      ],
      "metadata": {
        "id": "6Iwbqx2D8sZs"
      },
      "execution_count": null,
      "outputs": []
    },
    {
      "cell_type": "code",
      "source": [
        "data.head()"
      ],
      "metadata": {
        "id": "zct4nlqa8zIT",
        "outputId": "977a8264-0127-4378-bcae-b78d7983e44f",
        "colab": {
          "base_uri": "https://localhost:8080/",
          "height": 334
        }
      },
      "execution_count": null,
      "outputs": [
        {
          "output_type": "execute_result",
          "data": {
            "text/plain": [
              "   Fever  Tiredness  Dry-Cough  Difficulty-in-Breathing  Sore-Throat  \\\n",
              "0      1          1          1                        1            1   \n",
              "1      1          1          1                        1            1   \n",
              "2      1          1          1                        1            1   \n",
              "3      1          1          1                        1            1   \n",
              "4      1          1          1                        1            1   \n",
              "\n",
              "   None_Sympton  Pains  Nasal-Congestion  Runny-Nose  Diarrhea  ...  \\\n",
              "0             0      1                 1           1         1  ...   \n",
              "1             0      1                 1           1         1  ...   \n",
              "2             0      1                 1           1         1  ...   \n",
              "3             0      1                 1           1         1  ...   \n",
              "4             0      1                 1           1         1  ...   \n",
              "\n",
              "   Gender_Male  Gender_Transgender  Severity_Mild  Severity_Moderate  \\\n",
              "0            1                   0              1                  0   \n",
              "1            1                   0              1                  0   \n",
              "2            1                   0              1                  0   \n",
              "3            1                   0              0                  1   \n",
              "4            1                   0              0                  1   \n",
              "\n",
              "   Severity_None  Severity_Severe  Contact_Dont-Know  Contact_No  Contact_Yes  \\\n",
              "0              0                0                  0           0            1   \n",
              "1              0                0                  0           1            0   \n",
              "2              0                0                  1           0            0   \n",
              "3              0                0                  0           0            1   \n",
              "4              0                0                  0           1            0   \n",
              "\n",
              "   Country  \n",
              "0        0  \n",
              "1        0  \n",
              "2        0  \n",
              "3        0  \n",
              "4        0  \n",
              "\n",
              "[5 rows x 27 columns]"
            ],
            "text/html": [
              "\n",
              "  <div id=\"df-911a92c6-0ed9-48c7-8074-f056dbd38872\">\n",
              "    <div class=\"colab-df-container\">\n",
              "      <div>\n",
              "<style scoped>\n",
              "    .dataframe tbody tr th:only-of-type {\n",
              "        vertical-align: middle;\n",
              "    }\n",
              "\n",
              "    .dataframe tbody tr th {\n",
              "        vertical-align: top;\n",
              "    }\n",
              "\n",
              "    .dataframe thead th {\n",
              "        text-align: right;\n",
              "    }\n",
              "</style>\n",
              "<table border=\"1\" class=\"dataframe\">\n",
              "  <thead>\n",
              "    <tr style=\"text-align: right;\">\n",
              "      <th></th>\n",
              "      <th>Fever</th>\n",
              "      <th>Tiredness</th>\n",
              "      <th>Dry-Cough</th>\n",
              "      <th>Difficulty-in-Breathing</th>\n",
              "      <th>Sore-Throat</th>\n",
              "      <th>None_Sympton</th>\n",
              "      <th>Pains</th>\n",
              "      <th>Nasal-Congestion</th>\n",
              "      <th>Runny-Nose</th>\n",
              "      <th>Diarrhea</th>\n",
              "      <th>...</th>\n",
              "      <th>Gender_Male</th>\n",
              "      <th>Gender_Transgender</th>\n",
              "      <th>Severity_Mild</th>\n",
              "      <th>Severity_Moderate</th>\n",
              "      <th>Severity_None</th>\n",
              "      <th>Severity_Severe</th>\n",
              "      <th>Contact_Dont-Know</th>\n",
              "      <th>Contact_No</th>\n",
              "      <th>Contact_Yes</th>\n",
              "      <th>Country</th>\n",
              "    </tr>\n",
              "  </thead>\n",
              "  <tbody>\n",
              "    <tr>\n",
              "      <th>0</th>\n",
              "      <td>1</td>\n",
              "      <td>1</td>\n",
              "      <td>1</td>\n",
              "      <td>1</td>\n",
              "      <td>1</td>\n",
              "      <td>0</td>\n",
              "      <td>1</td>\n",
              "      <td>1</td>\n",
              "      <td>1</td>\n",
              "      <td>1</td>\n",
              "      <td>...</td>\n",
              "      <td>1</td>\n",
              "      <td>0</td>\n",
              "      <td>1</td>\n",
              "      <td>0</td>\n",
              "      <td>0</td>\n",
              "      <td>0</td>\n",
              "      <td>0</td>\n",
              "      <td>0</td>\n",
              "      <td>1</td>\n",
              "      <td>0</td>\n",
              "    </tr>\n",
              "    <tr>\n",
              "      <th>1</th>\n",
              "      <td>1</td>\n",
              "      <td>1</td>\n",
              "      <td>1</td>\n",
              "      <td>1</td>\n",
              "      <td>1</td>\n",
              "      <td>0</td>\n",
              "      <td>1</td>\n",
              "      <td>1</td>\n",
              "      <td>1</td>\n",
              "      <td>1</td>\n",
              "      <td>...</td>\n",
              "      <td>1</td>\n",
              "      <td>0</td>\n",
              "      <td>1</td>\n",
              "      <td>0</td>\n",
              "      <td>0</td>\n",
              "      <td>0</td>\n",
              "      <td>0</td>\n",
              "      <td>1</td>\n",
              "      <td>0</td>\n",
              "      <td>0</td>\n",
              "    </tr>\n",
              "    <tr>\n",
              "      <th>2</th>\n",
              "      <td>1</td>\n",
              "      <td>1</td>\n",
              "      <td>1</td>\n",
              "      <td>1</td>\n",
              "      <td>1</td>\n",
              "      <td>0</td>\n",
              "      <td>1</td>\n",
              "      <td>1</td>\n",
              "      <td>1</td>\n",
              "      <td>1</td>\n",
              "      <td>...</td>\n",
              "      <td>1</td>\n",
              "      <td>0</td>\n",
              "      <td>1</td>\n",
              "      <td>0</td>\n",
              "      <td>0</td>\n",
              "      <td>0</td>\n",
              "      <td>1</td>\n",
              "      <td>0</td>\n",
              "      <td>0</td>\n",
              "      <td>0</td>\n",
              "    </tr>\n",
              "    <tr>\n",
              "      <th>3</th>\n",
              "      <td>1</td>\n",
              "      <td>1</td>\n",
              "      <td>1</td>\n",
              "      <td>1</td>\n",
              "      <td>1</td>\n",
              "      <td>0</td>\n",
              "      <td>1</td>\n",
              "      <td>1</td>\n",
              "      <td>1</td>\n",
              "      <td>1</td>\n",
              "      <td>...</td>\n",
              "      <td>1</td>\n",
              "      <td>0</td>\n",
              "      <td>0</td>\n",
              "      <td>1</td>\n",
              "      <td>0</td>\n",
              "      <td>0</td>\n",
              "      <td>0</td>\n",
              "      <td>0</td>\n",
              "      <td>1</td>\n",
              "      <td>0</td>\n",
              "    </tr>\n",
              "    <tr>\n",
              "      <th>4</th>\n",
              "      <td>1</td>\n",
              "      <td>1</td>\n",
              "      <td>1</td>\n",
              "      <td>1</td>\n",
              "      <td>1</td>\n",
              "      <td>0</td>\n",
              "      <td>1</td>\n",
              "      <td>1</td>\n",
              "      <td>1</td>\n",
              "      <td>1</td>\n",
              "      <td>...</td>\n",
              "      <td>1</td>\n",
              "      <td>0</td>\n",
              "      <td>0</td>\n",
              "      <td>1</td>\n",
              "      <td>0</td>\n",
              "      <td>0</td>\n",
              "      <td>0</td>\n",
              "      <td>1</td>\n",
              "      <td>0</td>\n",
              "      <td>0</td>\n",
              "    </tr>\n",
              "  </tbody>\n",
              "</table>\n",
              "<p>5 rows × 27 columns</p>\n",
              "</div>\n",
              "      <button class=\"colab-df-convert\" onclick=\"convertToInteractive('df-911a92c6-0ed9-48c7-8074-f056dbd38872')\"\n",
              "              title=\"Convert this dataframe to an interactive table.\"\n",
              "              style=\"display:none;\">\n",
              "        \n",
              "  <svg xmlns=\"http://www.w3.org/2000/svg\" height=\"24px\"viewBox=\"0 0 24 24\"\n",
              "       width=\"24px\">\n",
              "    <path d=\"M0 0h24v24H0V0z\" fill=\"none\"/>\n",
              "    <path d=\"M18.56 5.44l.94 2.06.94-2.06 2.06-.94-2.06-.94-.94-2.06-.94 2.06-2.06.94zm-11 1L8.5 8.5l.94-2.06 2.06-.94-2.06-.94L8.5 2.5l-.94 2.06-2.06.94zm10 10l.94 2.06.94-2.06 2.06-.94-2.06-.94-.94-2.06-.94 2.06-2.06.94z\"/><path d=\"M17.41 7.96l-1.37-1.37c-.4-.4-.92-.59-1.43-.59-.52 0-1.04.2-1.43.59L10.3 9.45l-7.72 7.72c-.78.78-.78 2.05 0 2.83L4 21.41c.39.39.9.59 1.41.59.51 0 1.02-.2 1.41-.59l7.78-7.78 2.81-2.81c.8-.78.8-2.07 0-2.86zM5.41 20L4 18.59l7.72-7.72 1.47 1.35L5.41 20z\"/>\n",
              "  </svg>\n",
              "      </button>\n",
              "      \n",
              "  <style>\n",
              "    .colab-df-container {\n",
              "      display:flex;\n",
              "      flex-wrap:wrap;\n",
              "      gap: 12px;\n",
              "    }\n",
              "\n",
              "    .colab-df-convert {\n",
              "      background-color: #E8F0FE;\n",
              "      border: none;\n",
              "      border-radius: 50%;\n",
              "      cursor: pointer;\n",
              "      display: none;\n",
              "      fill: #1967D2;\n",
              "      height: 32px;\n",
              "      padding: 0 0 0 0;\n",
              "      width: 32px;\n",
              "    }\n",
              "\n",
              "    .colab-df-convert:hover {\n",
              "      background-color: #E2EBFA;\n",
              "      box-shadow: 0px 1px 2px rgba(60, 64, 67, 0.3), 0px 1px 3px 1px rgba(60, 64, 67, 0.15);\n",
              "      fill: #174EA6;\n",
              "    }\n",
              "\n",
              "    [theme=dark] .colab-df-convert {\n",
              "      background-color: #3B4455;\n",
              "      fill: #D2E3FC;\n",
              "    }\n",
              "\n",
              "    [theme=dark] .colab-df-convert:hover {\n",
              "      background-color: #434B5C;\n",
              "      box-shadow: 0px 1px 3px 1px rgba(0, 0, 0, 0.15);\n",
              "      filter: drop-shadow(0px 1px 2px rgba(0, 0, 0, 0.3));\n",
              "      fill: #FFFFFF;\n",
              "    }\n",
              "  </style>\n",
              "\n",
              "      <script>\n",
              "        const buttonEl =\n",
              "          document.querySelector('#df-911a92c6-0ed9-48c7-8074-f056dbd38872 button.colab-df-convert');\n",
              "        buttonEl.style.display =\n",
              "          google.colab.kernel.accessAllowed ? 'block' : 'none';\n",
              "\n",
              "        async function convertToInteractive(key) {\n",
              "          const element = document.querySelector('#df-911a92c6-0ed9-48c7-8074-f056dbd38872');\n",
              "          const dataTable =\n",
              "            await google.colab.kernel.invokeFunction('convertToInteractive',\n",
              "                                                     [key], {});\n",
              "          if (!dataTable) return;\n",
              "\n",
              "          const docLinkHtml = 'Like what you see? Visit the ' +\n",
              "            '<a target=\"_blank\" href=https://colab.research.google.com/notebooks/data_table.ipynb>data table notebook</a>'\n",
              "            + ' to learn more about interactive tables.';\n",
              "          element.innerHTML = '';\n",
              "          dataTable['output_type'] = 'display_data';\n",
              "          await google.colab.output.renderOutput(dataTable, element);\n",
              "          const docLink = document.createElement('div');\n",
              "          docLink.innerHTML = docLinkHtml;\n",
              "          element.appendChild(docLink);\n",
              "        }\n",
              "      </script>\n",
              "    </div>\n",
              "  </div>\n",
              "  "
            ]
          },
          "metadata": {},
          "execution_count": 7
        }
      ]
    },
    {
      "cell_type": "markdown",
      "source": [
        "#2. Exploratory Data Analysis & Clustering"
      ],
      "metadata": {
        "id": "ss-hVixFm8qj"
      }
    },
    {
      "cell_type": "markdown",
      "source": [
        "Основни информации за датасетот"
      ],
      "metadata": {
        "id": "b5IvaaeEQjh7"
      }
    },
    {
      "cell_type": "code",
      "source": [
        "data.info()"
      ],
      "metadata": {
        "colab": {
          "base_uri": "https://localhost:8080/"
        },
        "id": "UCP9Nzgxm-Tq",
        "outputId": "52f81733-3609-4f54-b940-fed97f266435"
      },
      "execution_count": null,
      "outputs": [
        {
          "output_type": "stream",
          "name": "stdout",
          "text": [
            "<class 'pandas.core.frame.DataFrame'>\n",
            "RangeIndex: 316800 entries, 0 to 316799\n",
            "Data columns (total 27 columns):\n",
            " #   Column                   Non-Null Count   Dtype\n",
            "---  ------                   --------------   -----\n",
            " 0   Fever                    316800 non-null  int64\n",
            " 1   Tiredness                316800 non-null  int64\n",
            " 2   Dry-Cough                316800 non-null  int64\n",
            " 3   Difficulty-in-Breathing  316800 non-null  int64\n",
            " 4   Sore-Throat              316800 non-null  int64\n",
            " 5   None_Sympton             316800 non-null  int64\n",
            " 6   Pains                    316800 non-null  int64\n",
            " 7   Nasal-Congestion         316800 non-null  int64\n",
            " 8   Runny-Nose               316800 non-null  int64\n",
            " 9   Diarrhea                 316800 non-null  int64\n",
            " 10  None_Experiencing        316800 non-null  int64\n",
            " 11  Age_0-9                  316800 non-null  int64\n",
            " 12  Age_10-19                316800 non-null  int64\n",
            " 13  Age_20-24                316800 non-null  int64\n",
            " 14  Age_25-59                316800 non-null  int64\n",
            " 15  Age_60+                  316800 non-null  int64\n",
            " 16  Gender_Female            316800 non-null  int64\n",
            " 17  Gender_Male              316800 non-null  int64\n",
            " 18  Gender_Transgender       316800 non-null  int64\n",
            " 19  Severity_Mild            316800 non-null  int64\n",
            " 20  Severity_Moderate        316800 non-null  int64\n",
            " 21  Severity_None            316800 non-null  int64\n",
            " 22  Severity_Severe          316800 non-null  int64\n",
            " 23  Contact_Dont-Know        316800 non-null  int64\n",
            " 24  Contact_No               316800 non-null  int64\n",
            " 25  Contact_Yes              316800 non-null  int64\n",
            " 26  Country                  316800 non-null  int64\n",
            "dtypes: int64(27)\n",
            "memory usage: 65.3 MB\n"
          ]
        }
      ]
    },
    {
      "cell_type": "markdown",
      "source": [
        "Од кои колони се состои датасетот"
      ],
      "metadata": {
        "id": "YK4ethFCpyNT"
      }
    },
    {
      "cell_type": "code",
      "source": [
        "data.columns"
      ],
      "metadata": {
        "colab": {
          "base_uri": "https://localhost:8080/"
        },
        "id": "HkIzC1svQ5cj",
        "outputId": "517f8198-f5c3-4f33-a6ab-c4733949a7ec"
      },
      "execution_count": null,
      "outputs": [
        {
          "output_type": "execute_result",
          "data": {
            "text/plain": [
              "Index(['Fever', 'Tiredness', 'Dry-Cough', 'Difficulty-in-Breathing',\n",
              "       'Sore-Throat', 'None_Sympton', 'Pains', 'Nasal-Congestion',\n",
              "       'Runny-Nose', 'Diarrhea', 'None_Experiencing', 'Age_0-9', 'Age_10-19',\n",
              "       'Age_20-24', 'Age_25-59', 'Age_60+', 'Gender_Female', 'Gender_Male',\n",
              "       'Gender_Transgender', 'Severity_Mild', 'Severity_Moderate',\n",
              "       'Severity_None', 'Severity_Severe', 'Contact_Dont-Know', 'Contact_No',\n",
              "       'Contact_Yes', 'Country'],\n",
              "      dtype='object')"
            ]
          },
          "metadata": {},
          "execution_count": 9
        }
      ]
    },
    {
      "cell_type": "markdown",
      "source": [
        "Како target променлива е земена колоната Severity_None и е прикажана нејзината распределба\n"
      ],
      "metadata": {
        "id": "rU76F8ntQsF_"
      }
    },
    {
      "cell_type": "code",
      "source": [
        "data['Severity_None'].value_counts()"
      ],
      "metadata": {
        "colab": {
          "base_uri": "https://localhost:8080/"
        },
        "id": "Aq9rpl6gRNXz",
        "outputId": "c0204bef-ee14-4f99-bf44-2d6708c874f1"
      },
      "execution_count": null,
      "outputs": [
        {
          "output_type": "execute_result",
          "data": {
            "text/plain": [
              "0    237600\n",
              "1     79200\n",
              "Name: Severity_None, dtype: int64"
            ]
          },
          "metadata": {},
          "execution_count": 10
        }
      ]
    },
    {
      "cell_type": "markdown",
      "source": [
        "Од овде може да заклучиме дека датасетот не е балансиран"
      ],
      "metadata": {
        "id": "ZO9ANmCLY9nm"
      }
    },
    {
      "cell_type": "code",
      "source": [
        "sns.countplot(x=data['Severity_None'])"
      ],
      "metadata": {
        "colab": {
          "base_uri": "https://localhost:8080/",
          "height": 297
        },
        "id": "DgkyEwAOx4T2",
        "outputId": "d9866432-1fa1-4fc7-ed76-49a54df6fe49"
      },
      "execution_count": null,
      "outputs": [
        {
          "output_type": "execute_result",
          "data": {
            "text/plain": [
              "<matplotlib.axes._subplots.AxesSubplot at 0x7fca4a1d6790>"
            ]
          },
          "metadata": {},
          "execution_count": 11
        },
        {
          "output_type": "display_data",
          "data": {
            "text/plain": [
              "<Figure size 432x288 with 1 Axes>"
            ],
            "image/png": "[encoded data removed]"
          },
          "metadata": {
            "needs_background": "light"
          }
        }
      ]
    },
    {
      "cell_type": "markdown",
      "source": [
        "Heatmap за приказ на зависностите и поврзаноста на променливите"
      ],
      "metadata": {
        "id": "H1GedVRQc_0W"
      }
    },
    {
      "cell_type": "code",
      "source": [
        "plt.figure(figsize=(30,30))\n",
        "sns.heatmap(data.corr(),annot=True,cmap='hsv',fmt='.3f',linewidths=2)\n",
        "plt.show()"
      ],
      "metadata": {
        "colab": {
          "base_uri": "https://localhost:8080/",
          "height": 1000
        },
        "id": "liMFnAi3uPXs",
        "outputId": "81ce27d8-3120-40a7-95ec-88788aba33d4"
      },
      "execution_count": null,
      "outputs": [
        {
          "output_type": "display_data",
          "data": {
            "text/plain": [
              "<Figure size 2160x2160 with 2 Axes>"
            ],
            "image/png": "[encoded data removed]"
          },
          "metadata": {
            "needs_background": "light"
          }
        }
      ]
    },
    {
      "cell_type": "code",
      "source": [
        "sns.distplot(data['Severity_None'],rug=True)\n",
        "plt.show()"
      ],
      "metadata": {
        "colab": {
          "base_uri": "https://localhost:8080/",
          "height": 369
        },
        "id": "Fwkj9rAuuddD",
        "outputId": "31078f50-e897-4a60-d109-55a15ae4d27a"
      },
      "execution_count": null,
      "outputs": [
        {
          "output_type": "stream",
          "name": "stderr",
          "text": [
            "/usr/local/lib/python3.7/dist-packages/seaborn/distributions.py:2619: FutureWarning: `distplot` is a deprecated function and will be removed in a future version. Please adapt your code to use either `displot` (a figure-level function with similar flexibility) or `histplot` (an axes-level function for histograms).\n",
            "  warnings.warn(msg, FutureWarning)\n",
            "/usr/local/lib/python3.7/dist-packages/seaborn/distributions.py:2103: FutureWarning: The `axis` variable is no longer used and will be removed. Instead, assign variables directly to `x` or `y`.\n",
            "  warnings.warn(msg, FutureWarning)\n"
          ]
        },
        {
          "output_type": "display_data",
          "data": {
            "text/plain": [
              "<Figure size 432x288 with 1 Axes>"
            ],
            "image/png": "[encoded data removed]"
          },
          "metadata": {
            "needs_background": "light"
          }
        }
      ]
    },
    {
      "cell_type": "markdown",
      "source": [
        "Дистрибуција на променливите Contact"
      ],
      "metadata": {
        "id": "04sK9MENR1w5"
      }
    },
    {
      "cell_type": "code",
      "source": [
        "contact_list = ['Contact_Dont-Know', 'Contact_No', 'Contact_Yes']\n",
        "\n",
        "fit = plt.figure(figsize=(12, 3))\n",
        "for i in range(len(contact_list)):\n",
        "    plt.subplot(1, 3, i+1)\n",
        "    sns.countplot(x=contact_list[i], data=data)\n",
        "plt.tight_layout()"
      ],
      "metadata": {
        "colab": {
          "base_uri": "https://localhost:8080/",
          "height": 225
        },
        "id": "3cowL-weRndd",
        "outputId": "173dc768-3048-43c9-f2c4-987034400de6"
      },
      "execution_count": null,
      "outputs": [
        {
          "output_type": "display_data",
          "data": {
            "text/plain": [
              "<Figure size 864x216 with 3 Axes>"
            ],
            "image/png": "[encoded data removed]"
          },
          "metadata": {
            "needs_background": "light"
          }
        }
      ]
    },
    {
      "cell_type": "markdown",
      "source": [
        "Countplot за променливата Country од кој може да се забележи дека од секоја држава има земено ист број на примероци"
      ],
      "metadata": {
        "id": "Bcx0sKxDdIRZ"
      }
    },
    {
      "cell_type": "code",
      "source": [
        "sns.countplot(x='Country', data=data)\n",
        "plt.xticks(rotation=90)\n",
        "plt.show()"
      ],
      "metadata": {
        "colab": {
          "base_uri": "https://localhost:8080/",
          "height": 276
        },
        "id": "92NViyvb7qjt",
        "outputId": "9e3e81bb-c3db-47d3-a57f-d78e033aea40"
      },
      "execution_count": null,
      "outputs": [
        {
          "output_type": "display_data",
          "data": {
            "text/plain": [
              "<Figure size 432x288 with 1 Axes>"
            ],
            "image/png": "[encoded data removed]"
          },
          "metadata": {
            "needs_background": "light"
          }
        }
      ]
    },
    {
      "cell_type": "markdown",
      "source": [
        "Поделба на множеството"
      ],
      "metadata": {
        "id": "EncVWxtKSXRk"
      }
    },
    {
      "cell_type": "code",
      "source": [
        "X = data.drop(['Severity_Mild','Severity_Moderate','Severity_None','Severity_Severe'], axis=1)\n",
        "\n",
        "#target column\n",
        "Y = data['Severity_None']"
      ],
      "metadata": {
        "id": "m7MIgRXaSV6e"
      },
      "execution_count": null,
      "outputs": []
    },
    {
      "cell_type": "code",
      "source": [
        "Y"
      ],
      "metadata": {
        "colab": {
          "base_uri": "https://localhost:8080/"
        },
        "id": "9XOS9cEMhXct",
        "outputId": "cc9247d1-1a34-4fc2-b78d-38d5b75cb103"
      },
      "execution_count": null,
      "outputs": [
        {
          "output_type": "execute_result",
          "data": {
            "text/plain": [
              "0         0\n",
              "1         0\n",
              "2         0\n",
              "3         0\n",
              "4         0\n",
              "         ..\n",
              "316795    0\n",
              "316796    0\n",
              "316797    1\n",
              "316798    1\n",
              "316799    1\n",
              "Name: Severity_None, Length: 316800, dtype: int64"
            ]
          },
          "metadata": {},
          "execution_count": 22
        }
      ]
    },
    {
      "cell_type": "markdown",
      "source": [
        "Наоѓање на минималниот број на кластери користејќи K-Means Clustering"
      ],
      "metadata": {
        "id": "LAyx5CVaSq0L"
      }
    },
    {
      "cell_type": "code",
      "source": [
        "inertia_list = []\n",
        "\n",
        "for i in range(1, 16):\n",
        "   km = KMeans(n_clusters=i)\n",
        "   km.fit(X)\n",
        "   inertia_list.append(km.inertia_)\n",
        "\n",
        "plt.plot(np.arange(1, 16), inertia_list)\n",
        "plt.xlabel('n_clusters')\n",
        "plt.ylabel('inertia')\n",
        "plt.title('Elbow plot')\n",
        "plt.show()"
      ],
      "metadata": {
        "id": "GpaubaeDuczx",
        "colab": {
          "base_uri": "https://localhost:8080/",
          "height": 296
        },
        "outputId": "7eb8d70c-dba6-4dc4-e2cc-eb8af2efa8eb"
      },
      "execution_count": null,
      "outputs": [
        {
          "output_type": "display_data",
          "data": {
            "text/plain": [
              "<Figure size 432x288 with 1 Axes>"
            ],
            "image/png": "[encoded data removed]"
          },
          "metadata": {
            "needs_background": "light"
          }
        }
      ]
    },
    {
      "cell_type": "markdown",
      "source": [
        "Од графикот следува дека бројот на кластери треба да биде 3"
      ],
      "metadata": {
        "id": "KuYHFbs-cxgY"
      }
    },
    {
      "cell_type": "code",
      "source": [
        "km = KMeans(n_clusters=3)\n",
        "km.fit(X)\n",
        "X['cluster'] = km.predict(X)\n",
        "\n",
        "sns.countplot(x='cluster', data=X, hue=Y)\n",
        "plt.show()"
      ],
      "metadata": {
        "colab": {
          "base_uri": "https://localhost:8080/",
          "height": 279
        },
        "id": "xRo4QXfGWK-K",
        "outputId": "88f90058-b17f-43c4-c508-d815b49b7580"
      },
      "execution_count": null,
      "outputs": [
        {
          "output_type": "display_data",
          "data": {
            "text/plain": [
              "<Figure size 432x288 with 1 Axes>"
            ],
            "image/png": "[encoded data removed]"
          },
          "metadata": {
            "needs_background": "light"
          }
        }
      ]
    },
    {
      "cell_type": "markdown",
      "source": [
        "Поделба на датасетот на train i test"
      ],
      "metadata": {
        "id": "BxE-3NLydKvJ"
      }
    },
    {
      "cell_type": "code",
      "source": [
        "X = data.drop(['Severity_Mild','Severity_Moderate','Severity_None','Severity_Severe'], axis=1)\n",
        "Y = data.iloc[:,-6:-5]\n",
        "X_train, X_test, Y_train, Y_test = train_test_split(X, Y, test_size = 0.2, random_state = 0)"
      ],
      "metadata": {
        "id": "xst1h_TddOR4"
      },
      "execution_count": null,
      "outputs": []
    },
    {
      "cell_type": "code",
      "source": [
        "X_train.shape"
      ],
      "metadata": {
        "colab": {
          "base_uri": "https://localhost:8080/"
        },
        "id": "SQryNE4PdaYO",
        "outputId": "89b22397-3317-4de4-924f-189bb907820e"
      },
      "execution_count": null,
      "outputs": [
        {
          "output_type": "execute_result",
          "data": {
            "text/plain": [
              "(253440, 23)"
            ]
          },
          "metadata": {},
          "execution_count": 28
        }
      ]
    },
    {
      "cell_type": "code",
      "source": [
        "Y_train.shape"
      ],
      "metadata": {
        "colab": {
          "base_uri": "https://localhost:8080/"
        },
        "id": "DSRihL-VddZs",
        "outputId": "54d615ce-e719-4aa5-a2ae-84c9b1c2ea0c"
      },
      "execution_count": null,
      "outputs": [
        {
          "output_type": "execute_result",
          "data": {
            "text/plain": [
              "(253440, 1)"
            ]
          },
          "metadata": {},
          "execution_count": 29
        }
      ]
    },
    {
      "cell_type": "code",
      "source": [
        "scaler=StandardScaler()\n",
        "X_train=scaler.fit_transform(X_train)\n",
        "X_test=scaler.fit_transform(X_test)"
      ],
      "metadata": {
        "id": "im_bZpT-dhwp"
      },
      "execution_count": null,
      "outputs": []
    },
    {
      "cell_type": "markdown",
      "source": [
        "#3. Креирање на модели со XGB и невронски мрежи"
      ],
      "metadata": {
        "id": "wt5FK2PrnCJa"
      }
    },
    {
      "cell_type": "markdown",
      "source": [
        "model1 - Класификација со XGBClassifier"
      ],
      "metadata": {
        "id": "NIAx3gStdgci"
      }
    },
    {
      "cell_type": "code",
      "source": [
        "from xgboost import XGBClassifier\n",
        "\n",
        "model1 = XGBClassifier(max_depth=10, min_child_weight=1,  n_estimators=200, n_jobs=-1 , verbose=1, learning_rate=0.2)\n",
        "\n",
        "model1.fit(X_train, Y_train)\n",
        "\n",
        "y_pred1 = model1.predict(X_test)"
      ],
      "metadata": {
        "id": "ItvmbHTYnD9n",
        "colab": {
          "base_uri": "https://localhost:8080/"
        },
        "outputId": "071fadce-8ba1-433a-fb69-0071203ac7f3"
      },
      "execution_count": null,
      "outputs": [
        {
          "output_type": "stream",
          "name": "stderr",
          "text": [
            "/usr/local/lib/python3.7/dist-packages/sklearn/preprocessing/_label.py:98: DataConversionWarning: A column-vector y was passed when a 1d array was expected. Please change the shape of y to (n_samples, ), for example using ravel().\n",
            "  y = column_or_1d(y, warn=True)\n",
            "/usr/local/lib/python3.7/dist-packages/sklearn/preprocessing/_label.py:133: DataConversionWarning: A column-vector y was passed when a 1d array was expected. Please change the shape of y to (n_samples, ), for example using ravel().\n",
            "  y = column_or_1d(y, warn=True)\n"
          ]
        }
      ]
    },
    {
      "cell_type": "markdown",
      "source": [
        "Евалуација на model1"
      ],
      "metadata": {
        "id": "6XJTrCTYdoBv"
      }
    },
    {
      "cell_type": "code",
      "source": [
        "print(\"Accuracy of model1: \", metrics.accuracy_score(Y_test, y_pred1)*100)"
      ],
      "metadata": {
        "id": "aSBIpbpDyPTW",
        "outputId": "1a6b16c2-0480-4c92-ccfa-d3d852728c11",
        "colab": {
          "base_uri": "https://localhost:8080/"
        }
      },
      "execution_count": null,
      "outputs": [
        {
          "output_type": "stream",
          "name": "stdout",
          "text": [
            "Accuracy of model1:  74.80587121212122\n"
          ]
        }
      ]
    },
    {
      "cell_type": "code",
      "source": [
        "print(confusion_matrix(Y_test, y_pred1))\n",
        "print(classification_report(Y_test, y_pred1))"
      ],
      "metadata": {
        "colab": {
          "base_uri": "https://localhost:8080/"
        },
        "id": "wAAGE72Dvf7r",
        "outputId": "05cd8614-db81-4c02-b2d2-ccbfba912fe8"
      },
      "execution_count": null,
      "outputs": [
        {
          "output_type": "stream",
          "name": "stdout",
          "text": [
            "[[47397   236]\n",
            " [15727     0]]\n",
            "              precision    recall  f1-score   support\n",
            "\n",
            "           0       0.75      1.00      0.86     47633\n",
            "           1       0.00      0.00      0.00     15727\n",
            "\n",
            "    accuracy                           0.75     63360\n",
            "   macro avg       0.38      0.50      0.43     63360\n",
            "weighted avg       0.56      0.75      0.64     63360\n",
            "\n"
          ]
        }
      ]
    },
    {
      "cell_type": "markdown",
      "source": [
        "model2 - Класификација со невронски мрежи"
      ],
      "metadata": {
        "id": "mKL85stTdt4q"
      }
    },
    {
      "cell_type": "code",
      "source": [
        "from keras.models import Sequential\n",
        "from keras.layers import Dense\n",
        "\n",
        "model2 = Sequential()\n",
        "model2.add(Dense(32, input_dim=23, kernel_initializer = 'uniform', activation='relu'))\n",
        "model2.add(Dense(16,kernel_initializer = 'uniform', activation='relu'))\n",
        "model2.add(Dense(16,kernel_initializer = 'uniform', activation='relu'))\n",
        "model2.add(Dense(8,kernel_initializer = 'uniform', activation='relu'))\n",
        "model2.add(Dense(1, kernel_initializer = 'uniform',activation='sigmoid'))"
      ],
      "metadata": {
        "id": "XziBXXwhJawx"
      },
      "execution_count": null,
      "outputs": []
    },
    {
      "cell_type": "code",
      "source": [
        "model2.compile(loss='binary_crossentropy', optimizer='adam', metrics=['accuracy'])"
      ],
      "metadata": {
        "id": "DiQKV-gpJfHd"
      },
      "execution_count": null,
      "outputs": []
    },
    {
      "cell_type": "code",
      "source": [
        "model2.fit(X_train, Y_train, epochs=20, batch_size=10)"
      ],
      "metadata": {
        "colab": {
          "base_uri": "https://localhost:8080/"
        },
        "id": "CLTi13eaJmh5",
        "outputId": "c65c3bf6-f38d-4ba5-dbd9-c201615ab4b0"
      },
      "execution_count": null,
      "outputs": [
        {
          "output_type": "stream",
          "name": "stdout",
          "text": [
            "Epoch 1/20\n",
            "25344/25344 [==============================] - 54s 2ms/step - loss: 0.5642 - accuracy: 0.7495\n",
            "Epoch 2/20\n",
            "25344/25344 [==============================] - 50s 2ms/step - loss: 0.5631 - accuracy: 0.7496\n",
            "Epoch 3/20\n",
            "25344/25344 [==============================] - 51s 2ms/step - loss: 0.5631 - accuracy: 0.7496\n",
            "Epoch 4/20\n",
            "25344/25344 [==============================] - 52s 2ms/step - loss: 0.5630 - accuracy: 0.7496\n",
            "Epoch 5/20\n",
            "25344/25344 [==============================] - 49s 2ms/step - loss: 0.5630 - accuracy: 0.7496\n",
            "Epoch 6/20\n",
            "25344/25344 [==============================] - 49s 2ms/step - loss: 0.5629 - accuracy: 0.7496\n",
            "Epoch 7/20\n",
            "25344/25344 [==============================] - 49s 2ms/step - loss: 0.5629 - accuracy: 0.7496\n",
            "Epoch 8/20\n",
            "25344/25344 [==============================] - 49s 2ms/step - loss: 0.5629 - accuracy: 0.7496\n",
            "Epoch 9/20\n",
            "25344/25344 [==============================] - 49s 2ms/step - loss: 0.5629 - accuracy: 0.7496\n",
            "Epoch 10/20\n",
            "25344/25344 [==============================] - 49s 2ms/step - loss: 0.5629 - accuracy: 0.7496\n",
            "Epoch 11/20\n",
            "25344/25344 [==============================] - 49s 2ms/step - loss: 0.5629 - accuracy: 0.7496\n",
            "Epoch 12/20\n",
            "25344/25344 [==============================] - 49s 2ms/step - loss: 0.5629 - accuracy: 0.7496\n",
            "Epoch 13/20\n",
            "25344/25344 [==============================] - 49s 2ms/step - loss: 0.5629 - accuracy: 0.7496\n",
            "Epoch 14/20\n",
            "25344/25344 [==============================] - 49s 2ms/step - loss: 0.5629 - accuracy: 0.7496\n",
            "Epoch 15/20\n",
            "25344/25344 [==============================] - 49s 2ms/step - loss: 0.5629 - accuracy: 0.7496\n",
            "Epoch 16/20\n",
            "25344/25344 [==============================] - 49s 2ms/step - loss: 0.5629 - accuracy: 0.7496\n",
            "Epoch 17/20\n",
            "25344/25344 [==============================] - 49s 2ms/step - loss: 0.5629 - accuracy: 0.7496\n",
            "Epoch 18/20\n",
            "25344/25344 [==============================] - 49s 2ms/step - loss: 0.5629 - accuracy: 0.7496\n",
            "Epoch 19/20\n",
            "25344/25344 [==============================] - 49s 2ms/step - loss: 0.5629 - accuracy: 0.7496\n",
            "Epoch 20/20\n",
            "25344/25344 [==============================] - 49s 2ms/step - loss: 0.5629 - accuracy: 0.7496\n"
          ]
        },
        {
          "output_type": "execute_result",
          "data": {
            "text/plain": [
              "<keras.callbacks.History at 0x7fca49a66ed0>"
            ]
          },
          "metadata": {},
          "execution_count": 41
        }
      ]
    },
    {
      "cell_type": "code",
      "source": [
        "y_pred2 = model2.predict(X_test)"
      ],
      "metadata": {
        "id": "EfUHFpDUzinw"
      },
      "execution_count": null,
      "outputs": []
    },
    {
      "cell_type": "code",
      "source": [
        "y_pred2 = y_pred2.round()\n",
        "y_pred2"
      ],
      "metadata": {
        "colab": {
          "base_uri": "https://localhost:8080/"
        },
        "id": "8R1P2mLLzoxq",
        "outputId": "757addc1-0b68-4b42-c586-4a920b68511f"
      },
      "execution_count": null,
      "outputs": [
        {
          "output_type": "execute_result",
          "data": {
            "text/plain": [
              "array([[0.],\n",
              "       [0.],\n",
              "       [0.],\n",
              "       ...,\n",
              "       [0.],\n",
              "       [0.],\n",
              "       [0.]], dtype=float32)"
            ]
          },
          "metadata": {},
          "execution_count": 43
        }
      ]
    },
    {
      "cell_type": "markdown",
      "source": [
        "Евалуација на model2"
      ],
      "metadata": {
        "id": "xL3kYX3ndy3e"
      }
    },
    {
      "cell_type": "code",
      "source": [
        "print(\"Accuracy of model2:\",metrics.accuracy_score(Y_test, y_pred2)*100)"
      ],
      "metadata": {
        "colab": {
          "base_uri": "https://localhost:8080/"
        },
        "id": "JyVtzzULlL5d",
        "outputId": "6067fd54-8bc6-4c18-b346-e3615b674a0b"
      },
      "execution_count": null,
      "outputs": [
        {
          "output_type": "stream",
          "name": "stdout",
          "text": [
            "Accuracy of model2: 75.17834595959596\n"
          ]
        }
      ]
    },
    {
      "cell_type": "code",
      "source": [
        "from sklearn.metrics import confusion_matrix\n",
        "cm = confusion_matrix(Y_test, y_pred2.round())\n",
        "sns.heatmap(cm,annot=True,cmap=\"Blues\",fmt=\"d\",cbar=False)\n",
        "#accuracy score\n",
        "from sklearn.metrics import accuracy_score\n",
        "ac=accuracy_score(Y_test, y_pred2.round())\n"
      ],
      "metadata": {
        "colab": {
          "base_uri": "https://localhost:8080/",
          "height": 265
        },
        "id": "_HytXa6Lzxk6",
        "outputId": "10c5ce89-fbc6-4371-ef90-61df8e7d088c"
      },
      "execution_count": null,
      "outputs": [
        {
          "output_type": "display_data",
          "data": {
            "text/plain": [
              "<Figure size 432x288 with 1 Axes>"
            ],
            "image/png": "[encoded data removed]"
          },
          "metadata": {
            "needs_background": "light"
          }
        }
      ]
    },
    {
      "cell_type": "code",
      "source": [
        "X_train = np.array(X_train)\n",
        "X_test = np.array(X_test)\n",
        "Y_train = np.array(Y_train)\n",
        "Y_test = np.array(Y_test)\n",
        "\n",
        "X_train = np.reshape(X_train, (X_train.shape[0], 1, X_train.shape[1]))\n",
        "X_test = np.reshape(X_test, (X_test.shape[0], 1, X_test.shape[1]))"
      ],
      "metadata": {
        "id": "v_hlaJpC1ruk"
      },
      "execution_count": null,
      "outputs": []
    },
    {
      "cell_type": "markdown",
      "source": [
        "model3 - Класификација со помош на advanced neural networks"
      ],
      "metadata": {
        "id": "1D9byCFCd2Jb"
      }
    },
    {
      "cell_type": "code",
      "source": [
        "from keras.models import Sequential\n",
        "from keras.layers import Dense\n",
        "from keras.layers import LSTM\n",
        "\n",
        "model3 = Sequential()\n",
        "model3.add(LSTM(100,  activation='relu', return_sequences=True,input_shape=(X_train.shape[1], X_train.shape[2])))\n",
        "model3.add(LSTM(50, activation='relu'))\n",
        "model3.add(Dense(1))"
      ],
      "metadata": {
        "id": "5SybIrtl2cE5"
      },
      "execution_count": null,
      "outputs": []
    },
    {
      "cell_type": "code",
      "source": [
        " model3.compile(loss='categorical_crossentropy', optimizer='adam', metrics=['accuracy'])"
      ],
      "metadata": {
        "id": "uU47foe72hvQ"
      },
      "execution_count": null,
      "outputs": []
    },
    {
      "cell_type": "code",
      "source": [
        "history = model3.fit(X_train, Y_train, epochs=8, batch_size=64, validation_split=0.2, verbose=2, shuffle=False)"
      ],
      "metadata": {
        "colab": {
          "base_uri": "https://localhost:8080/"
        },
        "id": "F7HGHz9V25_O",
        "outputId": "d2f22ae5-3bc8-44f7-87a4-20455265da35"
      },
      "execution_count": null,
      "outputs": [
        {
          "output_type": "stream",
          "name": "stdout",
          "text": [
            "Epoch 1/8\n",
            "3168/3168 - 26s - loss: 2.9832e-08 - accuracy: 0.7498 - val_loss: 2.9950e-08 - val_accuracy: 0.7488 - 26s/epoch - 8ms/step\n",
            "Epoch 2/8\n",
            "3168/3168 - 22s - loss: 2.9832e-08 - accuracy: 0.7498 - val_loss: 2.9950e-08 - val_accuracy: 0.7488 - 22s/epoch - 7ms/step\n",
            "Epoch 3/8\n",
            "3168/3168 - 14s - loss: 2.9832e-08 - accuracy: 0.7498 - val_loss: 2.9950e-08 - val_accuracy: 0.7488 - 14s/epoch - 5ms/step\n",
            "Epoch 4/8\n",
            "3168/3168 - 14s - loss: 2.9832e-08 - accuracy: 0.7498 - val_loss: 2.9950e-08 - val_accuracy: 0.7488 - 14s/epoch - 5ms/step\n",
            "Epoch 5/8\n",
            "3168/3168 - 13s - loss: 2.9832e-08 - accuracy: 0.7498 - val_loss: 2.9950e-08 - val_accuracy: 0.7488 - 13s/epoch - 4ms/step\n",
            "Epoch 6/8\n",
            "3168/3168 - 15s - loss: 2.9832e-08 - accuracy: 0.7498 - val_loss: 2.9950e-08 - val_accuracy: 0.7488 - 15s/epoch - 5ms/step\n",
            "Epoch 7/8\n",
            "3168/3168 - 13s - loss: 2.9832e-08 - accuracy: 0.7498 - val_loss: 2.9950e-08 - val_accuracy: 0.7488 - 13s/epoch - 4ms/step\n",
            "Epoch 8/8\n",
            "3168/3168 - 15s - loss: 2.9832e-08 - accuracy: 0.7498 - val_loss: 2.9950e-08 - val_accuracy: 0.7488 - 15s/epoch - 5ms/step\n"
          ]
        }
      ]
    },
    {
      "cell_type": "code",
      "source": [
        "y_pred3 = model3.predict(X_test)"
      ],
      "metadata": {
        "id": "lYbUIYEc3deH"
      },
      "execution_count": null,
      "outputs": []
    },
    {
      "cell_type": "code",
      "source": [
        "y_pred3=y_pred3.round()\n",
        "y_pred3"
      ],
      "metadata": {
        "colab": {
          "base_uri": "https://localhost:8080/"
        },
        "id": "PVW-6W2q3fDQ",
        "outputId": "5a5400b2-f9e8-4f19-e864-3ae5ce1ab862"
      },
      "execution_count": null,
      "outputs": [
        {
          "output_type": "execute_result",
          "data": {
            "text/plain": [
              "array([[ 0.],\n",
              "       [ 0.],\n",
              "       [ 0.],\n",
              "       ...,\n",
              "       [-0.],\n",
              "       [ 0.],\n",
              "       [ 0.]], dtype=float32)"
            ]
          },
          "metadata": {},
          "execution_count": 64
        }
      ]
    },
    {
      "cell_type": "markdown",
      "source": [
        "Евалуација на model3"
      ],
      "metadata": {
        "id": "De0g7dUjd-nz"
      }
    },
    {
      "cell_type": "code",
      "source": [
        "print(\"Accuracy of model3:\",metrics.accuracy_score(Y_test, y_pred3)*100)"
      ],
      "metadata": {
        "colab": {
          "base_uri": "https://localhost:8080/"
        },
        "id": "KBh8D-Ly3oPP",
        "outputId": "10d81329-a9ae-441d-97d8-0201e9b7f207"
      },
      "execution_count": null,
      "outputs": [
        {
          "output_type": "stream",
          "name": "stdout",
          "text": [
            "Accuracy of model3: 75.17834595959596\n"
          ]
        }
      ]
    },
    {
      "cell_type": "markdown",
      "source": [
        "#4. Најдобар модел"
      ],
      "metadata": {
        "id": "8FVXTXfqnHEB"
      }
    },
    {
      "cell_type": "markdown",
      "source": [
        "За проценка на перформансите на моделите користена е метриката Accuracy според која првиот модел има точност од 74.81%, а останатите два модели кои се креирани со помош на невронски мрежи имаат иста вредност за оваа метрика и тоа 75.18%.  Со ова може да заклучиме дека во овој случај моделите со невронски мрежи се за нијанса подобри од XGB класификаторот."
      ],
      "metadata": {
        "id": "0iz7-lsq-Q6o"
      }
    },
    {
      "cell_type": "markdown",
      "source": [
        "#5. Визуелизација на резултатите"
      ],
      "metadata": {
        "id": "zKf4o0bAnLnu"
      }
    },
    {
      "cell_type": "code",
      "source": [
        "plt.plot(Y_test, color = 'green', label = 'Actual')\n",
        "plt.plot(y_pred1, color = 'red', label = 'Predicted XGBoost')\n",
        "plt.plot(y_pred2, color = 'blue', label = 'Predicted NN')\n",
        "\n",
        "plt.grid(alpha = 0.3)\n",
        "plt.title('Actual vs Predicted')\n",
        "plt.legend()\n",
        "plt.show()"
      ],
      "metadata": {
        "id": "VwnqPir5nO86",
        "colab": {
          "base_uri": "https://localhost:8080/",
          "height": 281
        },
        "outputId": "c6436632-5260-4d82-955a-ac53170fa73b"
      },
      "execution_count": null,
      "outputs": [
        {
          "output_type": "display_data",
          "data": {
            "text/plain": [
              "<Figure size 432x288 with 1 Axes>"
            ],
            "image/png": "[encoded data removed]"
          },
          "metadata": {
            "needs_background": "light"
          }
        }
      ]
    },
    {
      "cell_type": "code",
      "source": [
        "plt.plot(Y_test, label='true')\n",
        "plt.plot(y_pred1, label='predict')\n",
        "plt.legend()\n",
        "plt.show()"
      ],
      "metadata": {
        "colab": {
          "base_uri": "https://localhost:8080/",
          "height": 265
        },
        "id": "dx2i_LyN89PI",
        "outputId": "93abed48-c26b-4cc5-9ea3-bf5129f54686"
      },
      "execution_count": null,
      "outputs": [
        {
          "output_type": "display_data",
          "data": {
            "text/plain": [
              "<Figure size 432x288 with 1 Axes>"
            ],
            "image/png": "[encoded data removed]"
          },
          "metadata": {
            "needs_background": "light"
          }
        }
      ]
    },
    {
      "cell_type": "code",
      "source": [
        "from sklearn.metrics import roc_auc_score, roc_curve\n",
        "fpr, tpr, thresholds = roc_curve(Y_test, y_pred2)\n",
        "opt_threshold = thresholds[np.argmax(tpr - fpr)]\n",
        "\n",
        "plt.plot(fpr, tpr)\n",
        "plt.xlabel('FPR')\n",
        "plt.ylabel('TPR')\n",
        "plt.title('ROC curve')\n",
        "plt.show()"
      ],
      "metadata": {
        "id": "Cfnhi5nwnVKH",
        "colab": {
          "base_uri": "https://localhost:8080/",
          "height": 295
        },
        "outputId": "bf6b6fa1-6c8f-41b0-d85b-3574a4cb37a5"
      },
      "execution_count": null,
      "outputs": [
        {
          "output_type": "display_data",
          "data": {
            "text/plain": [
              "<Figure size 432x288 with 1 Axes>"
            ],
            "image/png": "[encoded data removed]"
          },
          "metadata": {
            "needs_background": "light"
          }
        }
      ]
    }
  ]
}